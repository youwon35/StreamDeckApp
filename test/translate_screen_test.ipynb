{
 "cells": [
  {
   "cell_type": "code",
   "execution_count": 18,
   "id": "a5224e4d",
   "metadata": {},
   "outputs": [],
   "source": [
    "import pytesseract\n",
    "from PIL import ImageGrab\n",
    "from PIL import Image\n",
    "import time \n",
    "from googletrans import Translator\n",
    "import tkinter as tk\n",
    "from tkinter import messagebox\n",
    "import cv2\n",
    "import numpy as np"
   ]
  },
  {
   "cell_type": "code",
   "execution_count": 19,
   "id": "2e14141f",
   "metadata": {},
   "outputs": [],
   "source": [
    "def screenshot_and_translate():\n",
    "    img = ImageGrab.grab()\n",
    "    \n",
    "    img_cv = np.array(img)\n",
    "    gray = cv2.cvtColor(img_cv, cv2.COLOR_BGR2GRAY)\n",
    "    thresh =cv2.threshold(gray,150,255,cv2.THRESH_BINARY_INV)[1]\n",
    "    thresh_pil = Image.fromarray(thresh)\n",
    "    text = pytesseract.image_to_string(thresh_pil, lang='eng', config='--psm 6')\n",
    "    translator = Translator()\n",
    "    result  = translator.translate(text, src='en', dest = 'ko')\n",
    "    \n",
    "    root = tk.Tk()\n",
    "    root.withdraw()\n",
    "    messagebox.showinfo(\"번역결과 : \",result.text)"
   ]
  },
  {
   "cell_type": "code",
   "execution_count": 22,
   "id": "a9e3a513",
   "metadata": {},
   "outputs": [],
   "source": [
    "screenshot_and_translate()"
   ]
  }
 ],
 "metadata": {
  "kernelspec": {
   "display_name": "venv",
   "language": "python",
   "name": "python3"
  },
  "language_info": {
   "codemirror_mode": {
    "name": "ipython",
    "version": 3
   },
   "file_extension": ".py",
   "mimetype": "text/x-python",
   "name": "python",
   "nbconvert_exporter": "python",
   "pygments_lexer": "ipython3",
   "version": "3.11.3"
  }
 },
 "nbformat": 4,
 "nbformat_minor": 5
}
